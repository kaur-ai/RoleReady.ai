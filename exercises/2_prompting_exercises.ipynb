{
 "cells": [
  {
   "cell_type": "code",
   "execution_count": null,
   "id": "551ec7d5",
   "metadata": {},
   "outputs": [],
   "source": [
    "# !pip install --quiet openai\n",
    "# !pip install --quiet python-dotenv"
   ]
  },
  {
   "cell_type": "markdown",
   "id": "65519ecf",
   "metadata": {},
   "source": [
    "# Setting up configuration"
   ]
  },
  {
   "cell_type": "code",
   "execution_count": null,
   "id": "9b64de56",
   "metadata": {},
   "outputs": [],
   "source": [
    "import os\n",
    "from openai import OpenAI\n",
    "from dotenv import load_dotenv\n",
    "load_dotenv(\"../.env\")\n",
    "\n",
    "client = OpenAI(api_key=os.getenv('OPENAI_API_KEY'), base_url='https://api.openai.com/v1')"
   ]
  },
  {
   "cell_type": "code",
   "execution_count": null,
   "id": "1d085e11",
   "metadata": {},
   "outputs": [],
   "source": [
    "def llm_get_response(prompt):\n",
    "    \"\"\"\n",
    "    Function to get a response from the OpenAI API.\n",
    "    \"\"\"\n",
    "    try:\n",
    "        response = client.chat.completions.create(\n",
    "            model = \"gpt-4o\",\n",
    "            messages=[\n",
    "                {\"role\": \"system\", \"content\": \"You are a helpful assistant\"},\n",
    "                {\"role\": \"user\", \"content\": prompt},\n",
    "            ]\n",
    "        )\n",
    "        return response.choices[0].message.content\n",
    "    except Exception as e:\n",
    "        print(f\"Error: {e}\")\n",
    "        return None"
   ]
  },
  {
   "cell_type": "markdown",
   "id": "936f7e6b",
   "metadata": {},
   "source": [
    "# Prompt Engineering Practice"
   ]
  },
  {
   "cell_type": "markdown",
   "id": "6ba8e8da",
   "metadata": {},
   "source": [
    "## Exercise 1: Zero-Shot Prompt"
   ]
  },
  {
   "cell_type": "code",
   "execution_count": null,
   "id": "f4b2f829",
   "metadata": {},
   "outputs": [],
   "source": [
    "# TODO: Define your zero-shot prompt below\n",
    "zero_shot_prompt = \"You are an AI expert. Tell me more about generative AI concisely.\"\n",
    "\n",
    "print(llm_get_response(zero_shot_prompt))"
   ]
  },
  {
   "cell_type": "markdown",
   "id": "87e598ac",
   "metadata": {},
   "source": [
    "## Exercise 2: One-Shot Prompt"
   ]
  },
  {
   "cell_type": "code",
   "execution_count": null,
   "id": "ec4f5752",
   "metadata": {},
   "outputs": [],
   "source": [
    "# TODO: Fill in example and your prompt\n",
    "one_shot_prompt = (\n",
    "    \"Example:\\n\"\n",
    "    \"Q: What is supervised learning?\\n\"\n",
    "    \"A: Supervised learning is...\\n\\n\"\n",
    "    \"Now you:\\n\"\n",
    "    \"Q: Tell me more about generative AI.\\n\"\n",
    "    \"A:\"\n",
    ")\n",
    "print(llm_get_response(one_shot_prompt))"
   ]
  },
  {
   "cell_type": "markdown",
   "id": "af3906b5",
   "metadata": {},
   "source": [
    "## Exercise 3: Few-Shot Prompt"
   ]
  },
  {
   "cell_type": "code",
   "execution_count": null,
   "id": "871a0198",
   "metadata": {},
   "outputs": [],
   "source": [
    "# TODO: Compose a few-shot prompt with two distinct examples\n",
    "few_shot_prompt = \"Example 1...\"  # use multiline string\n",
    "print(llm_get_response(few_shot_prompt))"
   ]
  },
  {
   "cell_type": "markdown",
   "id": "a537ca21",
   "metadata": {},
   "source": [
    "## Exercise 4: Chain-of-Thought"
   ]
  },
  {
   "cell_type": "code",
   "execution_count": null,
   "id": "db47dd49",
   "metadata": {},
   "outputs": [],
   "source": [
    "# TODO: Craft a CoT prompt for generative AI explanation\n",
    "cot_prompt = \"Explain step by step how generative AI models work, then summarize.\"\n",
    "print(llm_get_response(cot_prompt))"
   ]
  },
  {
   "cell_type": "markdown",
   "id": "f8b9d076",
   "metadata": {},
   "source": [
    "## Exercise 5: ReAct Pattern"
   ]
  },
  {
   "cell_type": "code",
   "execution_count": null,
   "id": "45c14f7b",
   "metadata": {},
   "outputs": [],
   "source": [
    "# TODO: Write a ReAct-style prompt\n",
    "react_prompt = \"You are an AI assistant. Thought: ... Action: search('generative AI definition') Observation: ... Final Answer:\"\n",
    "print(llm_get_response(react_prompt))"
   ]
  },
  {
   "cell_type": "markdown",
   "id": "ac7235de",
   "metadata": {},
   "source": [
    "## Exercise 6: Parameterized Template"
   ]
  },
  {
   "cell_type": "code",
   "execution_count": null,
   "id": "46f43f4c",
   "metadata": {},
   "outputs": [],
   "source": [
    "from string import Template\n",
    "# TODO: Define a template with placeholders 'role' and 'question'\n",
    "tmpl = Template(\"You are an $role. $question\")\n",
    "filled = tmpl.substitute(role='Expert', question='Tell me more about generative AI')\n",
    "print(filled)\n",
    "print(llm_get_response(filled))"
   ]
  },
  {
   "cell_type": "code",
   "execution_count": null,
   "id": "db46ff5a",
   "metadata": {},
   "outputs": [],
   "source": []
  }
 ],
 "metadata": {
  "kernelspec": {
   "display_name": "roleready",
   "language": "python",
   "name": "python3"
  },
  "language_info": {
   "codemirror_mode": {
    "name": "ipython",
    "version": 3
   },
   "file_extension": ".py",
   "mimetype": "text/x-python",
   "name": "python",
   "nbconvert_exporter": "python",
   "pygments_lexer": "ipython3",
   "version": "3.12.9"
  }
 },
 "nbformat": 4,
 "nbformat_minor": 5
}
