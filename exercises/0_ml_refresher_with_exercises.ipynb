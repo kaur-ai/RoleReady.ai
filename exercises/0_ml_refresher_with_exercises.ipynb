{
 "cells": [
  {
   "cell_type": "markdown",
   "id": "326fb200",
   "metadata": {},
   "source": [
    "# Machine Learning Experiment with Exercises\n",
    "\n",
    "This notebook extends the basic ML refresher by adding exercises for you to complete. The initial part reviews loading data, training a model, and evaluating it. Below, you'll find template code and **TODO** markers for each exercise."
   ]
  },
  {
   "cell_type": "markdown",
   "id": "fa5f35d7",
   "metadata": {},
   "source": [
    "## Review: Basic Logistic Regression on Iris Dataset"
   ]
  },
  {
   "cell_type": "code",
   "execution_count": null,
   "id": "57a3d719",
   "metadata": {},
   "outputs": [],
   "source": [
    "# !pip install pandas\n",
    "# !pip install scikit-learn\n",
    "# !pip install matplotlib"
   ]
  },
  {
   "cell_type": "code",
   "execution_count": null,
   "id": "8c4b55fd",
   "metadata": {},
   "outputs": [],
   "source": [
    "import pandas as pd\n",
    "from sklearn.datasets import load_iris\n",
    "from sklearn.model_selection import train_test_split\n",
    "from sklearn.linear_model import LogisticRegression\n",
    "from sklearn.metrics import accuracy_score, confusion_matrix\n",
    "import matplotlib.pyplot as plt\n",
    "\n",
    "# Load dataset\n",
    "data = load_iris()\n",
    "df = pd.DataFrame(data.data, columns=data.feature_names)\n",
    "df['target'] = data.target\n",
    "\n",
    "# Split data\n",
    "X = df[data.feature_names]\n",
    "y = df['target']\n",
    "X_train, X_test, y_train, y_test = train_test_split(X, y, test_size=0.2, random_state=42)\n",
    "\n",
    "# Train and evaluate\n",
    "model = LogisticRegression(max_iter=200)\n",
    "model.fit(X_train, y_train)\n",
    "preds = model.predict(X_test)\n",
    "print(f\"Accuracy: {accuracy_score(y_test, preds):.2f}\")\n",
    "\n",
    "# Plot confusion matrix\n",
    "cm = confusion_matrix(y_test, preds)\n",
    "plt.imshow(cm, cmap='Blues')\n",
    "plt.title('Confusion Matrix')\n",
    "plt.xlabel('Predicted')\n",
    "plt.ylabel('True')\n",
    "for i in range(cm.shape[0]):\n",
    "    for j in range(cm.shape[1]):\n",
    "        plt.text(j, i, cm[i, j], ha='center', va='center', color='white')\n",
    "plt.show()"
   ]
  },
  {
   "cell_type": "markdown",
   "id": "274a9553",
   "metadata": {},
   "source": [
    "## Exercises\n",
    "\n",
    "Complete the following exercises by filling in the `# TODO` sections. Run each cell to test your implementation.\n"
   ]
  },
  {
   "cell_type": "markdown",
   "id": "91a5fe23",
   "metadata": {},
   "source": [
    "### Exercise 1: Classification Report & Metrics\n",
    "**Goal**: Generate a classification report including precision, recall, and F1-score.\n",
    "\n",
    "**Instructions**:\n",
    "1. Use `sklearn.metrics.classification_report` on the test set.\n",
    "2. Display the report as a dictionary or a pandas DataFrame."
   ]
  },
  {
   "cell_type": "code",
   "execution_count": null,
   "id": "75146665",
   "metadata": {},
   "outputs": [],
   "source": [
    "from sklearn.metrics import classification_report\n",
    "\n",
    "# TODO: Generate classification report\n",
    "\n",
    "\n",
    "# TODO: Convert to DataFrame and display\n"
   ]
  },
  {
   "cell_type": "markdown",
   "id": "1445df60",
   "metadata": {},
   "source": [
    "### Exercise 2: Cross-Validation with SVC\n",
    "**Goal**: Evaluate an SVM classifier using 5-fold cross-validation.\n",
    "\n",
    "**Instructions**:\n",
    "1. Import `sklearn.svm.SVC` and `sklearn.model_selection.cross_val_score`.\n",
    "2. Create an `SVC` model with `kernel='rbf'`.\n",
    "3. Perform 5-fold CV on the entire dataset `X, y`.\n",
    "4. Print the mean and standard deviation of the accuracy scores."
   ]
  },
  {
   "cell_type": "code",
   "execution_count": null,
   "id": "88a6a54f",
   "metadata": {},
   "outputs": [],
   "source": [
    "from sklearn.svm import SVC\n",
    "from sklearn.model_selection import cross_val_score\n",
    "\n",
    "# TODO: Initialize SVC model\n",
    "\n",
    "\n",
    "# TODO: Perform cross-validation\n",
    "\n",
    "\n",
    "# TODO: Display results"
   ]
  },
  {
   "cell_type": "markdown",
   "id": "171922d0",
   "metadata": {},
   "source": [
    "### Exercise 3: Hyperparameter Tuning with GridSearchCV\n",
    "**Goal**: Use grid search to find the best hyperparameters for a Random Forest classifier.\n",
    "\n",
    "**Instructions**:\n",
    "1. Import `RandomForestClassifier` and `GridSearchCV`.\n",
    "2. Define a parameter grid for `n_estimators` (e.g., [50, 100]) and `max_depth` (e.g., [None, 5, 10]).\n",
    "3. Use 3-fold CV within `GridSearchCV`.\n",
    "4. Fit on the training data, and print the best params and best score."
   ]
  },
  {
   "cell_type": "code",
   "execution_count": null,
   "id": "6b819558",
   "metadata": {},
   "outputs": [],
   "source": [
    "from sklearn.ensemble import RandomForestClassifier\n",
    "from sklearn.model_selection import GridSearchCV\n",
    "\n",
    "# TODO: Define parameter grid\n",
    "param_grid = {\n",
    "    'n_estimators': [50, 100],\n",
    "    'max_depth': [None, 5, 10]\n",
    "}\n",
    "\n",
    "# TODO: Initialize GridSearchCV\n",
    "\n",
    "\n",
    "# TODO: Fit on training data\n",
    "\n",
    "\n",
    "# TODO: Print best parameters and score"
   ]
  },
  {
   "cell_type": "markdown",
   "id": "1012888e",
   "metadata": {},
   "source": [
    "### Exercise 4: ROC Curve for One-vs-Rest\n",
    "**Goal**: Plot ROC curves for each class using a One-vs-Rest strategy.\n",
    "\n",
    "**Instructions**:\n",
    "1. Import `OneVsRestClassifier`, `roc_curve`, and `auc`.\n",
    "2. Binarize the target labels.\n",
    "3. Fit a logistic regression within `OneVsRestClassifier`.\n",
    "4. Compute ROC curve and AUC for each class and plot all curves."
   ]
  },
  {
   "cell_type": "code",
   "execution_count": null,
   "id": "cc8e3894",
   "metadata": {},
   "outputs": [],
   "source": [
    "from sklearn.preprocessing import label_binarize\n",
    "from sklearn.multiclass import OneVsRestClassifier\n",
    "from sklearn.metrics import roc_curve, auc\n",
    "\n",
    "# TODO: Binarize labels\n",
    "\n",
    "\n",
    "\n",
    "# TODO: Initialize OneVsRestClassifier with LogisticRegression\n",
    "\n",
    "\n",
    "\n",
    "# TODO: Fit model\n",
    "\n",
    "\n",
    "\n",
    "# TODO: Compute probabilities and ROC/AUC for each class\n"
   ]
  },
  {
   "cell_type": "markdown",
   "id": "a2327ba3",
   "metadata": {},
   "source": [
    "---\n",
    "\n",
    "Once you've completed these exercises, you will have practiced key ML workflow tasks: generating detailed metrics, performing cross-validation, tuning hyperparameters, and plotting ROC curves. Feel free to explore additional models and metrics to deepen your understanding!"
   ]
  }
 ],
 "metadata": {
  "kernelspec": {
   "display_name": "roleready",
   "language": "python",
   "name": "python3"
  },
  "language_info": {
   "codemirror_mode": {
    "name": "ipython",
    "version": 3
   },
   "file_extension": ".py",
   "mimetype": "text/x-python",
   "name": "python",
   "nbconvert_exporter": "python",
   "pygments_lexer": "ipython3",
   "version": "3.12.9"
  }
 },
 "nbformat": 4,
 "nbformat_minor": 5
}
