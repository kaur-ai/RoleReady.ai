{
 "cells": [
  {
   "cell_type": "markdown",
   "id": "d7d94ef1",
   "metadata": {},
   "source": [
    "# Python Exercises for Practice\n",
    "\n",
    "Here are five hands-on exercises, each with a short description and starter template code containing # TODO markers for you to fill in. Run each in a Jupyter notebook or .py file and test your implementations before moving on.\n",
    "\n",
    "### Instructions for all exercises:\n",
    "\n",
    "- Fill in each # TODO with working code.\n",
    "- Run the script and verify output.\n",
    "- Extend the functionality (e.g., add statistics functions, CLI options, or logging).\n",
    "- Test edge cases (empty lists, negative numbers, invalid input).\n",
    "\n",
    "These exercises will give you practical practice with data types, control flow, functions, modules, classes, error handling, decorators, and CLI design—all core Python skills. Enjoy coding!"
   ]
  },
  {
   "cell_type": "markdown",
   "id": "97617d40",
   "metadata": {},
   "source": [
    "## Exercise 1: List Processing & Statistics\n",
    "Goal: Write functions to compute basic stats on a list of numbers."
   ]
  },
  {
   "cell_type": "code",
   "execution_count": null,
   "id": "32c3e25f",
   "metadata": {},
   "outputs": [],
   "source": [
    "\n",
    "from typing import List, Tuple\n",
    "\n",
    "def mean(nums: List[float]) -> float:\n",
    "    \"\"\"Return the average of nums.\"\"\"\n",
    "    # TODO: compute and return the mean\n",
    "    pass\n",
    "\n",
    "def median(nums: List[float]) -> float:\n",
    "    \"\"\"Return the median of nums.\"\"\"\n",
    "    # TODO: sort the list and compute median (handle even/odd length)\n",
    "    pass\n",
    "\n",
    "def mode(nums: List[float]) -> List[float]:\n",
    "    \"\"\"Return the mode(s) of nums (most frequent values).\"\"\"\n",
    "    # TODO: count frequencies, return list of most common\n",
    "    pass\n",
    "\n",
    "if __name__ == \"__main__\":\n",
    "    data = [2, 3, 5, 3, 7, 9, 2, 3]\n",
    "    print(\"Mean:\", mean(data))\n",
    "    print(\"Median:\", median(data))\n",
    "    print(\"Mode:\", mode(data))\n"
   ]
  },
  {
   "cell_type": "markdown",
   "id": "d00ad961",
   "metadata": {},
   "source": [
    "## Exercise 2: File I/O & JSON\n",
    "Goal: Read a JSON file of user records, filter by age, and write the filtered list back."
   ]
  },
  {
   "cell_type": "code",
   "execution_count": null,
   "id": "07d1dbd3",
   "metadata": {},
   "outputs": [],
   "source": [
    "\n",
    "import json\n",
    "from typing import List, Dict\n",
    "\n",
    "def load_users(path: str) -> List[Dict]:\n",
    "    \"\"\"Load and return JSON list from path.\"\"\"\n",
    "    # TODO: open file, load JSON, return list\n",
    "    pass\n",
    "\n",
    "def filter_adults(users: List[Dict], min_age: int = 18) -> List[Dict]:\n",
    "    \"\"\"Return only users with age >= min_age.\"\"\"\n",
    "    # TODO: iterate and filter\n",
    "    pass\n",
    "\n",
    "def save_users(path: str, users: List[Dict]) -> None:\n",
    "    \"\"\"Write users list as JSON to path.\"\"\"\n",
    "    # TODO: dump JSON with indent=2\n",
    "    pass\n",
    "\n",
    "if __name__ == \"__main__\":\n",
    "    users = load_users(\"users.json\")\n",
    "    adults = filter_adults(users, 21)\n",
    "    save_users(\"adults.json\", adults)\n",
    "    print(f\"Filtered {len(adults)} users into adults.json\")\n"
   ]
  },
  {
   "cell_type": "markdown",
   "id": "646e7bf3",
   "metadata": {},
   "source": [
    "## Exercise 3: Class Design & Error Handling\n",
    "Goal: Implement a BankAccount class with deposit/withdraw and custom exception."
   ]
  },
  {
   "cell_type": "code",
   "execution_count": null,
   "id": "d6f07283",
   "metadata": {},
   "outputs": [],
   "source": [
    "\n",
    "class InsufficientFunds(Exception):\n",
    "    \"\"\"Raised when withdrawal amount exceeds balance.\"\"\"\n",
    "    pass\n",
    "\n",
    "class BankAccount:\n",
    "    def __init__(self, owner: str, balance: float = 0.0):\n",
    "        self.owner = owner\n",
    "        self.balance = balance\n",
    "\n",
    "    def deposit(self, amount: float) -> None:\n",
    "        \"\"\"Add amount to balance.\"\"\"\n",
    "        # TODO: validate amount > 0, update balance\n",
    "\n",
    "    def withdraw(self, amount: float) -> None:\n",
    "        \"\"\"Subtract amount; raise if insufficient.\"\"\"\n",
    "        # TODO: if amount > balance: raise InsufficientFunds\n",
    "        # TODO: else subtract from balance\n",
    "\n",
    "    def __repr__(self) -> str:\n",
    "        return f\"<BankAccount owner={self.owner!r} balance={self.balance:.2f}>\"\n",
    "\n",
    "if __name__ == \"__main__\":\n",
    "    acct = BankAccount(\"Bob\", 100.0)\n",
    "    acct.deposit(50)\n",
    "    print(acct)  # balance 150\n",
    "    try:\n",
    "        acct.withdraw(200)\n",
    "    except InsufficientFunds:\n",
    "        print(\"Cannot withdraw: insufficient funds\")\n",
    "    acct.withdraw(75)\n",
    "    print(acct)  # balance 75\n"
   ]
  },
  {
   "cell_type": "markdown",
   "id": "bcb6ef7a",
   "metadata": {},
   "source": [
    "## Exercise 4: Decorators & Timing\n",
    "Goal: Write a decorator @timed that measures execution time of a function."
   ]
  },
  {
   "cell_type": "code",
   "execution_count": null,
   "id": "fa7bd172",
   "metadata": {},
   "outputs": [],
   "source": [
    "import time\n",
    "from typing import Callable, Any\n",
    "\n",
    "def timed(func: Callable) -> Callable:\n",
    "    \"\"\"Decorator that prints the runtime of the decorated function.\"\"\"\n",
    "    # TODO: define wrapper that records start/end times around func\n",
    "    pass\n",
    "\n",
    "@timed\n",
    "def slow_sum(n: int) -> int:\n",
    "    \"\"\"Sum numbers from 1 to n with an artificial delay.\"\"\"\n",
    "    total = 0\n",
    "    for i in range(1, n+1):\n",
    "        total += i\n",
    "        time.sleep(0.001)  # simulate work\n",
    "    return total\n",
    "\n",
    "if __name__ == \"__main__\":\n",
    "    result = slow_sum(100)\n",
    "    print(\"Result:\", result)\n"
   ]
  },
  {
   "cell_type": "markdown",
   "id": "2b5ebc96",
   "metadata": {},
   "source": [
    "## Exercise 5: Simple CLI with argparse\n",
    "Goal: Build a command-line tool that reads numbers and prints stats."
   ]
  },
  {
   "cell_type": "code",
   "execution_count": null,
   "id": "edfe6888",
   "metadata": {},
   "outputs": [],
   "source": [
    "import argparse\n",
    "from typing import List\n",
    "\n",
    "# Reuse functions from exercise1_stats if you like:\n",
    "# from exercise1_stats import mean, median, mode\n",
    "\n",
    "def parse_args():\n",
    "    parser = argparse.ArgumentParser(description=\"Compute stats on a list of numbers.\")\n",
    "    parser.add_argument(\"numbers\", metavar=\"N\", type=float, nargs=\"+\",\n",
    "                        help=\"a list of numbers\")\n",
    "    parser.add_argument(\"--mode\", action=\"store_true\", help=\"also print mode\")\n",
    "    return parser.parse_args()\n",
    "\n",
    "def main():\n",
    "    args = parse_args()\n",
    "    nums: List[float] = args.numbers\n",
    "    print(\"Mean:\", mean(nums))    # TODO: call your mean()\n",
    "    print(\"Median:\", median(nums))# TODO: call your median()\n",
    "    if args.mode:\n",
    "        print(\"Mode:\", mode(nums))# TODO: call your mode()\n",
    "\n",
    "if __name__ == \"__main__\":\n",
    "    main()\n"
   ]
  },
  {
   "cell_type": "code",
   "execution_count": null,
   "id": "95ea2bf8",
   "metadata": {},
   "outputs": [],
   "source": []
  }
 ],
 "metadata": {
  "kernelspec": {
   "display_name": "roleready",
   "language": "python",
   "name": "python3"
  },
  "language_info": {
   "codemirror_mode": {
    "name": "ipython",
    "version": 3
   },
   "file_extension": ".py",
   "mimetype": "text/x-python",
   "name": "python",
   "nbconvert_exporter": "python",
   "pygments_lexer": "ipython3",
   "version": "3.12.9"
  }
 },
 "nbformat": 4,
 "nbformat_minor": 5
}
