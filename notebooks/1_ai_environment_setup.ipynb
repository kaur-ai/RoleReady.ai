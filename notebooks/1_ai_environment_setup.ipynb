{
 "cells": [
  {
   "cell_type": "markdown",
   "metadata": {},
   "source": [
    "# Setting up the AI environment for development\n",
    "\n",
    "This notebook explains how to setup the AI model endpoints and Python notebooks for this tutorial.\n",
    "\n",
    "### AI Endpoints\n",
    "This tutorial covers three different ways one can setup access to AI models (If you have model access through your school or other places, feel free to use them)\n",
    "1. Azure Open AI from Microsoft ([link](#Setup-Azure-Open-AI-Endpoint))\n",
    "2. Open AI ([link](#Setup-Open-AI-Endpoint))\n",
    "3. Local execution using LM Studio ([link](#Setup-LM-Studio))"
   ]
  },
  {
   "cell_type": "markdown",
   "metadata": {},
   "source": [
    "***"
   ]
  },
  {
   "cell_type": "markdown",
   "metadata": {},
   "source": [
    "## Setup Azure Open AI Endpoint"
   ]
  },
  {
   "cell_type": "markdown",
   "metadata": {},
   "source": [
    "#### Step 1: Create a Resource\n",
    "\n",
    "You need to carry out the following steps:\n",
    "\n",
    " - Create an account on Azure https://azure.microsoft.com/free/.\n",
    "\n",
    " - Gain access to Azure OpenAI. Go to https://learn.microsoft.com/azure/ai-services/openai/overview#how-do-i-get-access-to-azure-openai and request access.\n",
    "\n",
    " - Install Python https://www.python.org/\n",
    "\n",
    " - Have created an Azure OpenAI Service resource. See this guide for how to create a resource."
   ]
  },
  {
   "cell_type": "markdown",
   "metadata": {},
   "source": [
    "#### Step 2: Locate API key and endpoint\n",
    "\n",
    "To find your API key, go to `Keys and Endpoint` section of your Azure OpenAI resource and copy the `Key 1` value.\n",
    "\n",
    "![Azure OpenAI Key](assets/azure_openai_key.png \"Azure OpenAI\")"
   ]
  },
  {
   "cell_type": "markdown",
   "metadata": {},
   "source": [
    "#### Step 3: Setup configuration Azure OpenAI\n",
    "\n",
    "- `pip install openai`\n",
    "\n",
    "- Create a `.env` file in your current directory, and add the following key values\n",
    "```python\n",
    "AZURE_ENDPOINT = \"<deployment URL from the previous step>\"\n",
    "API_KEY = \"<deployment API key from the previous step>\"\n",
    "API_VERSION = \"2023-07-01-preview\"\n",
    "```\n",
    "For more info, follow this [link](https://learn.microsoft.com/en-us/azure/ai-services/openai/quickstart?tabs=command-line%2Cpython-new&pivots=programming-language-python)"
   ]
  },
  {
   "cell_type": "markdown",
   "metadata": {},
   "source": [
    "#### Step 4: Run the following example code"
   ]
  },
  {
   "cell_type": "code",
   "execution_count": null,
   "metadata": {},
   "outputs": [],
   "source": [
    "!pip install openai"
   ]
  },
  {
   "cell_type": "code",
   "execution_count": null,
   "metadata": {},
   "outputs": [],
   "source": [
    "import os \n",
    "from openai import AzureOpenAI\n",
    "from dotenv import load_dotenv\n",
    "load_dotenv()\n",
    "\n",
    "client = AzureOpenAI(\n",
    "    azure_endpoint = os.getenv('AZURE_ENDPOINT'),\n",
    "    api_key = os.getenv('API_KEY'),\n",
    "    api_version = os.getenv('API_VERSION')\n",
    ")\n",
    "model_name = \"<model deployment name here>\"\n",
    "\n",
    "prompt = \"What is the capital of France?\"\n",
    "response = client.chat.completions.create(\n",
    "    model = model_name,\n",
    "    messages=[\n",
    "        {\"role\": \"system\", \"content\": \"You are a helpful assistant\"},\n",
    "        {\"role\": \"user\", \"content\": prompt},\n",
    "    ]\n",
    ")\n",
    "print(response.choices[0].message.content)"
   ]
  },
  {
   "cell_type": "markdown",
   "metadata": {},
   "source": [
    "***"
   ]
  },
  {
   "cell_type": "markdown",
   "metadata": {},
   "source": [
    "## Setup Open AI Endpoint"
   ]
  },
  {
   "cell_type": "markdown",
   "metadata": {},
   "source": [
    "#### Step 1: Setup configuration Azure OpenAI\n",
    "\n",
    "- `pip install openai`\n",
    "\n",
    "- Create an environment variable, as follows\n",
    "```\n",
    "export OPENAI_API_KEY=\"your_api_key_here\"\n",
    "```"
   ]
  },
  {
   "cell_type": "markdown",
   "metadata": {},
   "source": [
    "#### Step 2: Run the following example code"
   ]
  },
  {
   "cell_type": "code",
   "execution_count": null,
   "metadata": {},
   "outputs": [],
   "source": [
    "from openai import OpenAI\n",
    "client = OpenAI()\n",
    "\n",
    "model_name = \"<model deployment name here>\"\n",
    "completion = client.chat.completions.create(\n",
    "    model=model_name,\n",
    "    messages=[\n",
    "        {\"role\": \"system\", \"content\": \"You are a helpful assistant.\"},\n",
    "        {\n",
    "            \"role\": \"user\",\n",
    "            \"content\": \"What is the capital of France?\"\n",
    "        }\n",
    "    ]\n",
    ")\n",
    "\n",
    "print(completion.choices[0].message)"
   ]
  },
  {
   "cell_type": "markdown",
   "metadata": {},
   "source": [
    "***"
   ]
  },
  {
   "cell_type": "markdown",
   "metadata": {},
   "source": [
    "## Setup LM Studio"
   ]
  },
  {
   "cell_type": "markdown",
   "metadata": {},
   "source": [
    "#### Step 1: Setup LM Studio\n",
    "\n",
    "- Download [LM Studio](https://lmstudio.ai/docs/welcome)\n",
    "\n",
    "- [Setup](https://lmstudio.ai/docs/local-server) local server\n"
   ]
  },
  {
   "cell_type": "markdown",
   "metadata": {},
   "source": [
    "#### Step 2: Run the following code"
   ]
  },
  {
   "cell_type": "code",
   "execution_count": null,
   "metadata": {},
   "outputs": [],
   "source": [
    "# Example: reuse your existing OpenAI setup\n",
    "from openai import OpenAI\n",
    "\n",
    "# Point to the local server\n",
    "client = OpenAI(base_url=\"http://localhost:9005/v1\", api_key=\"lm-studio\")\n",
    "\n",
    "completion = client.chat.completions.create(\n",
    "  model=\"model-identifier\", # name of the model\n",
    "  messages=[\n",
    "    {\"role\": \"system\", \"content\": \"You are a helpful assistant.\"},\n",
    "    {\"role\": \"user\", \"content\": \"What is the capital of France?\"}\n",
    "  ],\n",
    "  temperature=0.7,\n",
    ")\n",
    "\n",
    "print(completion.choices[0].message)"
   ]
  },
  {
   "cell_type": "markdown",
   "metadata": {},
   "source": [
    "***"
   ]
  },
  {
   "cell_type": "markdown",
   "metadata": {},
   "source": [
    "## "
   ]
  }
 ],
 "metadata": {
  "kernelspec": {
   "display_name": "roleready",
   "language": "python",
   "name": "python3"
  },
  "language_info": {
   "codemirror_mode": {
    "name": "ipython",
    "version": 3
   },
   "file_extension": ".py",
   "mimetype": "text/x-python",
   "name": "python",
   "nbconvert_exporter": "python",
   "pygments_lexer": "ipython3",
   "version": "3.12.9"
  }
 },
 "nbformat": 4,
 "nbformat_minor": 2
}
