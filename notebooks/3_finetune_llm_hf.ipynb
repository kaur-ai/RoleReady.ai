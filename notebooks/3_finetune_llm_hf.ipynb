{
 "cells": [
  {
   "cell_type": "markdown",
   "id": "9edbde83",
   "metadata": {},
   "source": [
    "# Fine-Tuning an LLM with Hugging Face Transformers\n",
    "\n",
    "This notebook demonstrates how to fine-tune a pretrained language model (e.g., GPT-2) on a custom text dataset using the Hugging Face `transformers` Trainer API."
   ]
  },
  {
   "cell_type": "markdown",
   "id": "67697c81",
   "metadata": {},
   "source": [
    "## 1. Install Dependencies"
   ]
  },
  {
   "cell_type": "code",
   "execution_count": null,
   "id": "d9a55cd4",
   "metadata": {},
   "outputs": [],
   "source": [
    "# !pip install --upgrade transformers datasets accelerate"
   ]
  },
  {
   "cell_type": "markdown",
   "id": "62641ec1",
   "metadata": {},
   "source": [
    "## 2. Imports"
   ]
  },
  {
   "cell_type": "code",
   "execution_count": null,
   "id": "64e56255",
   "metadata": {},
   "outputs": [],
   "source": [
    "import os\n",
    "from datasets import load_dataset\n",
    "from transformers import (\n",
    "    AutoTokenizer, AutoModelForCausalLM,\n",
    "    Trainer, TrainingArguments,\n",
    "    DataCollatorForLanguageModeling\n",
    ")\n"
   ]
  },
  {
   "cell_type": "markdown",
   "id": "ff00dfce",
   "metadata": {},
   "source": [
    "## 3. Load and Inspect Dataset\n",
    "Replace `'wikitext'` with your dataset or use local files."
   ]
  },
  {
   "cell_type": "code",
   "execution_count": null,
   "id": "fac12b5c",
   "metadata": {},
   "outputs": [],
   "source": [
    "dataset = load_dataset('wikitext', 'wikitext-2-raw-v1')\n",
    "dataset"
   ]
  },
  {
   "cell_type": "markdown",
   "id": "9d88efde",
   "metadata": {},
   "source": [
    "## 4. Preprocess and Tokenize\n",
    "Tokenize the text and group into blocks for language modeling."
   ]
  },
  {
   "cell_type": "code",
   "execution_count": null,
   "id": "19d26667",
   "metadata": {},
   "outputs": [],
   "source": [
    "model_checkpoint = 'gpt2'\n",
    "tokenizer = AutoTokenizer.from_pretrained(model_checkpoint)\n",
    "tokenizer.pad_token = tokenizer.eos_token\n",
    "\n",
    "def tokenize_function(examples):\n",
    "    return tokenizer(examples['text'], truncation=True)\n",
    "\n",
    "tokenized = dataset.map(\n",
    "    tokenize_function,\n",
    "    batched=True,\n",
    "    remove_columns=['text']\n",
    ")\n",
    "\n",
    "# Group texts into chunks of fixed length\n",
    "block_size = 128\n",
    "def group_texts(examples):\n",
    "    # concatenate and chunk both input_ids & attention_mask\n",
    "    concatenated = {\n",
    "        k: sum(examples[k], []) for k in [\"input_ids\", \"attention_mask\"]\n",
    "    }\n",
    "    total_len = (len(concatenated[\"input_ids\"]) // block_size) * block_size\n",
    "    result = {\"input_ids\": [], \"attention_mask\": []}\n",
    "    for i in range(0, total_len, block_size):\n",
    "        result[\"input_ids\"].append(concatenated[\"input_ids\"][i : i + block_size])\n",
    "        result[\"attention_mask\"].append(concatenated[\"attention_mask\"][i : i + block_size])\n",
    "    return result\n",
    "\n",
    "lm_datasets = tokenized.map(\n",
    "    group_texts,\n",
    "    batched=True,\n",
    "    remove_columns=tokenized[\"train\"].column_names,  # remove all old columns on that split\n",
    ")\n"
   ]
  },
  {
   "cell_type": "markdown",
   "id": "c843f635",
   "metadata": {},
   "source": [
    "## 5. Initialize Model and Data Collator"
   ]
  },
  {
   "cell_type": "code",
   "execution_count": null,
   "id": "538227a8",
   "metadata": {},
   "outputs": [],
   "source": [
    "model = AutoModelForCausalLM.from_pretrained(model_checkpoint)\n",
    "\n",
    "data_collator = DataCollatorForLanguageModeling(\n",
    "    tokenizer=tokenizer,\n",
    "    mlm=False\n",
    ")\n"
   ]
  },
  {
   "cell_type": "markdown",
   "id": "b2d5f223",
   "metadata": {},
   "source": [
    "## 6. Training Arguments"
   ]
  },
  {
   "cell_type": "code",
   "execution_count": null,
   "id": "c810920b",
   "metadata": {},
   "outputs": [],
   "source": [
    "\n",
    "training_args = TrainingArguments(\n",
    "    output_dir=\"./results\",\n",
    "    overwrite_output_dir=True,\n",
    "    num_train_epochs=1,\n",
    "    per_device_train_batch_size=4,\n",
    "    save_steps=500,\n",
    "    save_total_limit=2,\n",
    "    logging_steps=100,\n",
    "    bf16=True,          # use bf16 on MPS instead of fp16\n",
    "    push_to_hub=False,\n",
    ")\n"
   ]
  },
  {
   "cell_type": "markdown",
   "id": "0beb2a26",
   "metadata": {},
   "source": [
    "## 7. Initialize Trainer and Train"
   ]
  },
  {
   "cell_type": "code",
   "execution_count": 15,
   "id": "11c23552",
   "metadata": {},
   "outputs": [],
   "source": [
    "trainer = Trainer(\n",
    "    model=model,\n",
    "    args=training_args,\n",
    "    train_dataset=lm_datasets['train'],\n",
    "    tokenizer=tokenizer,\n",
    "    data_collator=data_collator\n",
    ")\n",
    "\n",
    "trainer.train()\n"
   ]
  },
  {
   "cell_type": "markdown",
   "id": "0cad22ca",
   "metadata": {},
   "source": [
    "## 8. Save and Evaluate\n",
    "```python\n",
    "model.save_pretrained('fine-tuned-model')\n",
    "tokenizer.save_pretrained('fine-tuned-model')\n",
    "```"
   ]
  },
  {
   "cell_type": "markdown",
   "id": "89af8238",
   "metadata": {},
   "source": [
    "## 9. Generate Sample Text\n",
    "```python\n",
    "from transformers import pipeline\n",
    "generator = pipeline('text-generation', model='fine-tuned-model', tokenizer='fine-tuned-model')\n",
    "print(generator('Once upon a time', max_length=50))\n",
    "```"
   ]
  },
  {
   "cell_type": "markdown",
   "id": "de416013",
   "metadata": {},
   "source": [
    "## 10. Next Steps\n",
    "- Use your own dataset via `load_dataset('text', data_files=...)`.\n",
    "- Experiment with learning rates and batch sizes.\n",
    "- Try different model checkpoints (e.g., `gpt2-medium`)."
   ]
  }
 ],
 "metadata": {
  "kernelspec": {
   "display_name": "roleready",
   "language": "python",
   "name": "python3"
  },
  "language_info": {
   "codemirror_mode": {
    "name": "ipython",
    "version": 3
   },
   "file_extension": ".py",
   "mimetype": "text/x-python",
   "name": "python",
   "nbconvert_exporter": "python",
   "pygments_lexer": "ipython3",
   "version": "3.12.9"
  }
 },
 "nbformat": 4,
 "nbformat_minor": 5
}
