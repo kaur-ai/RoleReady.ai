{
 "cells": [
  {
   "cell_type": "markdown",
   "id": "0a9f3c0e",
   "metadata": {},
   "source": [
    "# Demonstrating AI Agents with AutoGen 2.0\n",
    "\n",
    "This notebook shows how to build and run AI agents using Microsoft's AutoGen 2.0 library. You will see how agents can collaborate, call tools, and carry out complex tasks autonomously."
   ]
  },
  {
   "cell_type": "markdown",
   "id": "6867849d",
   "metadata": {},
   "source": [
    "## 1. Install Dependencies"
   ]
  },
  {
   "cell_type": "code",
   "execution_count": null,
   "id": "cdb40ebf",
   "metadata": {},
   "outputs": [],
   "source": [
    "# !pip install autogen autogen-agentchat autogen-core \"autogen-ext[openai, web-surfer]\"\n",
    "# !pip install playwright\n",
    "# !playwright install"
   ]
  },
  {
   "cell_type": "markdown",
   "id": "ffe4d772",
   "metadata": {},
   "source": [
    "## 2. Imports and Setup"
   ]
  },
  {
   "cell_type": "code",
   "execution_count": null,
   "id": "6a5d8b5d",
   "metadata": {},
   "outputs": [],
   "source": [
    "import os\n",
    "import asyncio\n",
    "from autogen_agentchat.agents import AssistantAgent\n",
    "from autogen_agentchat.messages import StructuredMessage\n",
    "from autogen_agentchat.ui import Console\n",
    "from autogen_ext.models.openai import OpenAIChatCompletionClient\n",
    "from dotenv import load_dotenv\n",
    "load_dotenv(\"../.env\")\n"
   ]
  },
  {
   "cell_type": "markdown",
   "id": "07f2d740",
   "metadata": {},
   "source": [
    "## 3 Define Web search agent with tool"
   ]
  },
  {
   "cell_type": "code",
   "execution_count": null,
   "id": "c115f620",
   "metadata": {},
   "outputs": [],
   "source": [
    "async def web_search(query: str) -> str:\n",
    "    \"\"\"Find information on the web\"\"\"\n",
    "    return \"AutoGen is a programming framework for building multi-agent applications.\"\n",
    "\n",
    "\n",
    "# Create an agent that uses the OpenAI GPT-4o model.\n",
    "model_client = OpenAIChatCompletionClient(\n",
    "    model=\"gpt-4.1-nano\",\n",
    "    # api_key=\"YOUR_API_KEY\",\n",
    ")\n",
    "agent = AssistantAgent(\n",
    "    name=\"assistant\",\n",
    "    model_client=model_client,\n",
    "    tools=[web_search],\n",
    "    system_message=\"Use tools to solve tasks.\",\n",
    ")"
   ]
  },
  {
   "cell_type": "markdown",
   "id": "4ec5190c",
   "metadata": {},
   "source": [
    "## 5. Run a Task: Plan and Compute\n",
    "Ask the assistant to calculate and explain."
   ]
  },
  {
   "cell_type": "code",
   "execution_count": null,
   "id": "8b88458b",
   "metadata": {},
   "outputs": [],
   "source": [
    "# Use asyncio.run(agent.run(...)) when running in a script.\n",
    "result = await agent.run(task=\"Find information on AutoGen\")\n",
    "print(result.messages)\n"
   ]
  },
  {
   "cell_type": "markdown",
   "id": "591adc7c",
   "metadata": {},
   "source": [
    "## 6. MultiAgent collaboration with Browser Simulation"
   ]
  },
  {
   "cell_type": "code",
   "execution_count": null,
   "id": "425df1a9",
   "metadata": {},
   "outputs": [],
   "source": [
    "import asyncio\n",
    "from autogen_agentchat.agents import UserProxyAgent\n",
    "from autogen_agentchat.conditions import TextMentionTermination\n",
    "from autogen_agentchat.teams import RoundRobinGroupChat\n",
    "from autogen_agentchat.ui import Console\n",
    "from autogen_ext.models.openai import OpenAIChatCompletionClient\n",
    "from autogen_ext.agents.web_surfer import MultimodalWebSurfer\n",
    "\n",
    "from dotenv import load_dotenv\n",
    "load_dotenv(\"../.env\")\n",
    "\n",
    "async def main() -> None:\n",
    "    model_client = OpenAIChatCompletionClient(model=\"gpt-4o\")\n",
    "    # The web surfer will open a Chromium browser window to perform web browsing tasks.\n",
    "    web_surfer = MultimodalWebSurfer(\"web_surfer\", model_client, headless=False, animate_actions=True)\n",
    "    # The user proxy agent is used to get user input after each step of the web surfer.\n",
    "    # NOTE: you can skip input by pressing Enter.\n",
    "    user_proxy = UserProxyAgent(\"user_proxy\")\n",
    "    # The termination condition is set to end the conversation when the user types 'exit'.\n",
    "    termination = TextMentionTermination(\"exit\", sources=[\"user_proxy\"])\n",
    "    # Web surfer and user proxy take turns in a round-robin fashion.\n",
    "    team = RoundRobinGroupChat([web_surfer, user_proxy], termination_condition=termination)\n",
    "    try:\n",
    "        # Start the team and wait for it to terminate.\n",
    "        await Console(team.run_stream(task=\"Find information about AutoGen and write a short summary.\"))\n",
    "    finally:\n",
    "        await web_surfer.close()\n",
    "        await model_client.close()\n",
    "\n",
    "await main()"
   ]
  },
  {
   "cell_type": "code",
   "execution_count": null,
   "id": "4b05d006",
   "metadata": {},
   "outputs": [],
   "source": []
  }
 ],
 "metadata": {
  "kernelspec": {
   "display_name": "roleready",
   "language": "python",
   "name": "python3"
  },
  "language_info": {
   "codemirror_mode": {
    "name": "ipython",
    "version": 3
   },
   "file_extension": ".py",
   "mimetype": "text/x-python",
   "name": "python",
   "nbconvert_exporter": "python",
   "pygments_lexer": "ipython3",
   "version": "3.12.9"
  }
 },
 "nbformat": 4,
 "nbformat_minor": 5
}
