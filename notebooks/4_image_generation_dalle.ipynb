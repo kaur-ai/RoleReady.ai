{
 "cells": [
  {
   "cell_type": "markdown",
   "id": "d672410a",
   "metadata": {},
   "source": [
    "# DALL·E Image Generation & Prompt Engineering\n",
    "\n",
    "This notebook demonstrates how to integrate OpenAI's DALL·E for image generation using different prompt engineering approaches."
   ]
  },
  {
   "cell_type": "markdown",
   "id": "456afff1",
   "metadata": {},
   "source": [
    "## 1. Install Dependencies\n"
   ]
  },
  {
   "cell_type": "code",
   "execution_count": null,
   "id": "62e288f7",
   "metadata": {},
   "outputs": [],
   "source": [
    "# !pip install openai pillow"
   ]
  },
  {
   "cell_type": "markdown",
   "id": "daf3cdbd",
   "metadata": {},
   "source": [
    "## 2. Setup OpenAI Client"
   ]
  },
  {
   "cell_type": "code",
   "execution_count": null,
   "id": "449f7af3",
   "metadata": {},
   "outputs": [],
   "source": [
    "import os\n",
    "from openai import OpenAI\n",
    "from dotenv import load_dotenv\n",
    "load_dotenv(\"../.env\")\n",
    "\n",
    "from PIL import Image\n",
    "from io import BytesIO\n",
    "import base64\n",
    "\n",
    "# TODO: Set your OpenAI API key\n",
    "# os.environ['OPENAI_API_KEY'] = 'YOUR_API_KEY'\n",
    "client = OpenAI(api_key=os.getenv('OPENAI_API_KEY'), base_url='https://api.openai.com/v1')\n",
    "\n",
    "def generate_image(prompt: str, n: int = 1, size: str = \"512x512\"):\n",
    "    \"\"\"Generate images with DALL·E.\"\"\"\n",
    "    response = client.images.generate(prompt=prompt,\n",
    "    n=n,\n",
    "    size=size,\n",
    "    response_format=\"b64_json\")\n",
    "    images = []\n",
    "    for img_data in response.data:\n",
    "        img_bytes = base64.b64decode(img_data.b64_json)\n",
    "        images.append(Image.open(BytesIO(img_bytes)))\n",
    "    return images"
   ]
  },
  {
   "cell_type": "markdown",
   "id": "3b5a7acc",
   "metadata": {},
   "source": [
    "## 3. Basic Prompt\n",
    "A straightforward request."
   ]
  },
  {
   "cell_type": "code",
   "execution_count": null,
   "id": "71800fa9",
   "metadata": {},
   "outputs": [],
   "source": [
    "basic_prompt = \"A futuristic illustration of generative AI as a glowing neural network\"\n",
    "imgs = generate_image(basic_prompt, n=1)\n",
    "imgs[0]"
   ]
  },
  {
   "cell_type": "markdown",
   "id": "7e57171e",
   "metadata": {},
   "source": [
    "## 4. Style-Enhanced Prompt\n",
    "Add style modifiers to guide the aesthetic."
   ]
  },
  {
   "cell_type": "code",
   "execution_count": null,
   "id": "45d50026",
   "metadata": {},
   "outputs": [],
   "source": [
    "style_prompt = (\n",
    "    \"A futuristic illustration of generative AI as a glowing neural network, \"\n",
    "    \"in the style of digital art, vibrant colors, cinematic lighting\"\n",
    ")\n",
    "imgs = generate_image(style_prompt, n=1)\n",
    "imgs[0]"
   ]
  },
  {
   "cell_type": "markdown",
   "id": "bc7ba03d",
   "metadata": {},
   "source": [
    "## 5. One-Shot Prompt\n",
    "Providing an example in the prompt description."
   ]
  },
  {
   "cell_type": "code",
   "execution_count": null,
   "id": "17fcf5ea",
   "metadata": {},
   "outputs": [],
   "source": [
    "one_shot_prompt = (\n",
    "    \"\"\"Example: 'A watercolor painting of a robot reading a book.'\n",
    "    \"Now: 'A watercolor painting of generative AI concept as abstract shapes and data streams.'\"\"\"\n",
    ")\n",
    "imgs = generate_image(one_shot_prompt, n=1)\n",
    "imgs[0]"
   ]
  },
  {
   "cell_type": "markdown",
   "id": "88b4b5d8",
   "metadata": {},
   "source": [
    "## 6. Parameterized Prompt Templates\n",
    "Use Python `Template` for dynamic prompts."
   ]
  },
  {
   "cell_type": "code",
   "execution_count": null,
   "id": "8d300700",
   "metadata": {},
   "outputs": [],
   "source": [
    "from string import Template\n",
    "\n",
    "tmpl = Template(\n",
    "    \"A $style depiction of generative AI, featuring $elements, photorealistic, high detail\"\n",
    ")\n",
    "prompt_filled = tmpl.substitute(\n",
    "    style=\"cyberpunk\",\n",
    "    elements=\"neon circuits and holographic code\"\n",
    ")\n",
    "imgs = generate_image(prompt_filled, n=1)\n",
    "imgs[0]"
   ]
  },
  {
   "cell_type": "markdown",
   "id": "5353f4f0",
   "metadata": {},
   "source": [
    "## 7. Iterative Refinement (Dynamic Prompting)\n",
    "Adjust prompt based on previous outputs."
   ]
  },
  {
   "cell_type": "code",
   "execution_count": null,
   "id": "225294cc",
   "metadata": {},
   "outputs": [],
   "source": [
    "# First attempt\n",
    "prompt1 = \"A sketch of generative AI as intertwined gears and data streams\"\n",
    "imgs1 = generate_image(prompt1, n=1)\n",
    "imgs1[0]\n",
    "\n",
    "# Refine: add color and mood\n",
    "prompt2 = prompt1 + \", colored with warm pastel tones, soft shading\"\n",
    "imgs2 = generate_image(prompt2, n=1)\n",
    "imgs2[0]"
   ]
  },
  {
   "cell_type": "markdown",
   "id": "957c9891",
   "metadata": {},
   "source": [
    "## 8. Negative Prompting (Excluding Unwanted Elements)\n",
    "DALL·E doesn’t support explicit negative prompts, but you can phrase to exclude."
   ]
  },
  {
   "cell_type": "code",
   "execution_count": null,
   "id": "e50452e9",
   "metadata": {},
   "outputs": [],
   "source": [
    "neg_prompt = \"A futuristic generative AI neural network, without any humans or text overlays, digital art\"\n",
    "imgs = generate_image(neg_prompt, n=1)\n",
    "imgs[0]"
   ]
  },
  {
   "cell_type": "markdown",
   "id": "5c91922b",
   "metadata": {},
   "source": [
    "## 9. Batch Generation & Comparison\n",
    "Generate multiple variants and display side by side."
   ]
  },
  {
   "cell_type": "code",
   "execution_count": null,
   "id": "146cd5b1",
   "metadata": {},
   "outputs": [],
   "source": [
    "batch_prompt = \"A conceptual digital rendering of generative AI as a brain of light\"\n",
    "images = generate_image(batch_prompt, n=4)\n",
    "# Display grid\n",
    "import matplotlib.pyplot as plt\n",
    "\n",
    "fig, axs = plt.subplots(1, 4, figsize=(16,4))\n",
    "for ax, img in zip(axs, images):\n",
    "    ax.imshow(img)\n",
    "    ax.axis('off')\n"
   ]
  },
  {
   "cell_type": "markdown",
   "id": "1bdd067e",
   "metadata": {},
   "source": [
    "## 10. Next Steps\n",
    "- Experiment with different prompt patterns (e.g., metaphors, emotional tones).\n",
    "- Compare DALL·E with other image models (Stable Diffusion).\n",
    "- Automate prompt generation using GPT for meta-prompting."
   ]
  }
 ],
 "metadata": {
  "kernelspec": {
   "display_name": "roleready",
   "language": "python",
   "name": "python3"
  },
  "language_info": {
   "codemirror_mode": {
    "name": "ipython",
    "version": 3
   },
   "file_extension": ".py",
   "mimetype": "text/x-python",
   "name": "python",
   "nbconvert_exporter": "python",
   "pygments_lexer": "ipython3",
   "version": "3.12.9"
  }
 },
 "nbformat": 4,
 "nbformat_minor": 5
}
