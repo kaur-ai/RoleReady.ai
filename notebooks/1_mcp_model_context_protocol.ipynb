{
 "cells": [
  {
   "cell_type": "markdown",
   "id": "e1605dc3",
   "metadata": {},
   "source": [
    "# Demonstrating Model Context Protocol (MCP)\n",
    "This notebook provides a simple example of implementing a **Model Context Protocol (MCP)** in Python. MCP defines a standard way to manage and inject context into model prompts."
   ]
  },
  {
   "cell_type": "markdown",
   "id": "16fa573e",
   "metadata": {},
   "source": [
    "## 1. Defining the Protocol Interface\n",
    "We start by defining an abstract base class for the protocol, specifying methods for adding and retrieving context."
   ]
  },
  {
   "cell_type": "code",
   "execution_count": 1,
   "id": "6d9347ab",
   "metadata": {},
   "outputs": [],
   "source": [
    "from abc import ABC, abstractmethod\n",
    "\n",
    "class ModelContextProtocol(ABC):\n",
    "    @abstractmethod\n",
    "    def add_context(self, key: str, value: str) -> None:\n",
    "        \"\"\"Add a piece of context identified by `key`.\"\"\"\n",
    "        pass\n",
    "\n",
    "    @abstractmethod\n",
    "    def get_context(self) -> dict:\n",
    "        \"\"\"Retrieve all stored context as a dict.\"\"\"\n",
    "        pass"
   ]
  },
  {
   "cell_type": "markdown",
   "id": "a77211d8",
   "metadata": {},
   "source": [
    "## 2. Concrete Implementation\n",
    "Here we implement the protocol using an in-memory dictionary to store context."
   ]
  },
  {
   "cell_type": "code",
   "execution_count": 2,
   "id": "2d596fef",
   "metadata": {},
   "outputs": [
    {
     "name": "stdout",
     "output_type": "stream",
     "text": [
      "Stored Context: {'user_name': 'Alice', 'previous_query': 'What is MCP?'}\n"
     ]
    }
   ],
   "source": [
    "class InMemoryContext(ModelContextProtocol):\n",
    "    def __init__(self):\n",
    "        self._context = {}\n",
    "\n",
    "    def add_context(self, key: str, value: str) -> None:\n",
    "        self._context[key] = value\n",
    "\n",
    "    def get_context(self) -> dict:\n",
    "        return self._context\n",
    "\n",
    "# Example usage\n",
    "ctx = InMemoryContext()\n",
    "ctx.add_context('user_name', 'Alice')\n",
    "ctx.add_context('previous_query', 'What is MCP?')\n",
    "print('Stored Context:', ctx.get_context())"
   ]
  },
  {
   "cell_type": "markdown",
   "id": "9aa852e2",
   "metadata": {},
   "source": [
    "## 3. Building a Prompt with Context\n",
    "Using the context, we generate a final prompt to send to the model."
   ]
  },
  {
   "cell_type": "code",
   "execution_count": 3,
   "id": "b7f692a9",
   "metadata": {},
   "outputs": [
    {
     "name": "stdout",
     "output_type": "stream",
     "text": [
      "[user_name]: Alice\n",
      "[previous_query]: What is MCP?\n",
      "[query]: Explain the Model Context Protocol.\n"
     ]
    }
   ],
   "source": [
    "def build_prompt(base_prompt: str, context: dict) -> str:\n",
    "    \"\"\"\n",
    "    Prepend context entries to the base prompt in a standardized format.\n",
    "    \"\"\"\n",
    "    prompt_parts = []\n",
    "    for key, value in context.items():\n",
    "        prompt_parts.append(f\"[{key}]: {value}\")\n",
    "    prompt_parts.append(f\"[query]: {base_prompt}\")\n",
    "    return \"\\n\".join(prompt_parts)\n",
    "\n",
    "# Build and display prompt\n",
    "base = 'Explain the Model Context Protocol.'\n",
    "full_prompt = build_prompt(base, ctx.get_context())\n",
    "print(full_prompt)"
   ]
  },
  {
   "cell_type": "markdown",
   "id": "99271a07",
   "metadata": {},
   "source": [
    "## 4. Simulating a Model Call\n",
    "Finally, we simulate sending the prompt to a model (e.g., an LLM)."
   ]
  },
  {
   "cell_type": "code",
   "execution_count": 4,
   "id": "e83e0898",
   "metadata": {},
   "outputs": [
    {
     "name": "stdout",
     "output_type": "stream",
     "text": [
      "Model received the prompt:\n",
      "[user_name]: Alice\n",
      "[previous_query]: What is MCP?\n",
      "[query]: Explain the Model Context Protocol.\n",
      "-- End of response --\n"
     ]
    }
   ],
   "source": [
    "def mock_model_call(prompt: str) -> str:\n",
    "    \"\"\"\n",
    "    Mock function that simulates an LLM response by echoing the prompt.\n",
    "    \"\"\"\n",
    "    return f\"Model received the prompt:\\n{prompt}\\n-- End of response --\"\n",
    "\n",
    "# Simulate and display response\n",
    "response = mock_model_call(full_prompt)\n",
    "print(response)"
   ]
  },
  {
   "cell_type": "markdown",
   "id": "a68cae52",
   "metadata": {},
   "source": [
    "## 5. Exercises\n",
    "**Extend this example**:\n",
    "- Implement a `FileBackedContext` that saves context to disk.\n",
    "- Integrate with a real LLM SDK (e.g., OpenAI or Hugging Face).\n",
    "- Add error handling for missing context entries."
   ]
  },
  {
   "cell_type": "code",
   "execution_count": null,
   "id": "bedc1ae6",
   "metadata": {},
   "outputs": [],
   "source": []
  }
 ],
 "metadata": {
  "kernelspec": {
   "display_name": "roleready",
   "language": "python",
   "name": "python3"
  },
  "language_info": {
   "codemirror_mode": {
    "name": "ipython",
    "version": 3
   },
   "file_extension": ".py",
   "mimetype": "text/x-python",
   "name": "python",
   "nbconvert_exporter": "python",
   "pygments_lexer": "ipython3",
   "version": "3.12.9"
  }
 },
 "nbformat": 4,
 "nbformat_minor": 5
}
