{
 "cells": [
  {
   "cell_type": "markdown",
   "id": "b04638bb",
   "metadata": {},
   "source": [
    "# Python Refresher\n",
    "\n",
    "Here are concise examples illustrating key Python syntax elements, each followed by a brief explanation:"
   ]
  },
  {
   "cell_type": "markdown",
   "id": "8728148f",
   "metadata": {},
   "source": [
    "## 1. Variable Assignment & Data Types"
   ]
  },
  {
   "cell_type": "code",
   "execution_count": null,
   "id": "087e68e1",
   "metadata": {},
   "outputs": [],
   "source": [
    "# Assigning values to variables\n",
    "name: str     = \"Alice\"   # string\n",
    "age: int      = 30        # integer\n",
    "height: float = 1.68      # float\n",
    "is_student: bool = False  # boolean\n",
    "\n",
    "# Multiple assignment\n",
    "x, y, z = 1, 2.5, \"hello\"\n"
   ]
  },
  {
   "cell_type": "markdown",
   "id": "0d53455a",
   "metadata": {},
   "source": [
    "## 2. Conditional Statements"
   ]
  },
  {
   "cell_type": "code",
   "execution_count": null,
   "id": "18d64cb3",
   "metadata": {},
   "outputs": [],
   "source": [
    "if age >= 18:\n",
    "    print(f\"{name} is an adult.\")\n",
    "elif age >= 13:\n",
    "    print(f\"{name} is a teenager.\")\n",
    "else:\n",
    "    print(f\"{name} is a child.\")\n"
   ]
  },
  {
   "cell_type": "markdown",
   "id": "612cfd8b",
   "metadata": {},
   "source": [
    "## 3. Loops"
   ]
  },
  {
   "cell_type": "code",
   "execution_count": null,
   "id": "a3bdba80",
   "metadata": {},
   "outputs": [],
   "source": [
    "# For-loop over a list\n",
    "fruits = [\"apple\", \"banana\", \"cherry\"]\n",
    "for fruit in fruits:\n",
    "    print(fruit)\n",
    "\n",
    "# While-loop with a counter\n",
    "count = 3\n",
    "while count > 0:\n",
    "    print(count)\n",
    "    count -= 1\n"
   ]
  },
  {
   "cell_type": "markdown",
   "id": "146ff6ee",
   "metadata": {},
   "source": [
    "## 4. Functions"
   ]
  },
  {
   "cell_type": "code",
   "execution_count": null,
   "id": "7072dfbf",
   "metadata": {},
   "outputs": [],
   "source": [
    "def greet(name: str) -> str:\n",
    "    \"\"\"Return a greeting string.\"\"\"\n",
    "    return f\"Hello, {name}!\"\n",
    "\n",
    "# Calling the function\n",
    "message = greet(\"Bob\")\n",
    "print(message)\n"
   ]
  },
  {
   "cell_type": "markdown",
   "id": "c13ce005",
   "metadata": {},
   "source": [
    "## 5. List Comprehension"
   ]
  },
  {
   "cell_type": "code",
   "execution_count": null,
   "id": "549e75de",
   "metadata": {},
   "outputs": [],
   "source": [
    "# Create a list of squares for even numbers 0–9\n",
    "even_squares = [x*x for x in range(10) if x % 2 == 0]\n",
    "print(even_squares)  # [0, 4, 16, 36, 64]\n"
   ]
  },
  {
   "cell_type": "markdown",
   "id": "36729c61",
   "metadata": {},
   "source": [
    "## 6. Dictionaries & Looping over Keys/Values"
   ]
  },
  {
   "cell_type": "code",
   "execution_count": null,
   "id": "41517d72",
   "metadata": {},
   "outputs": [],
   "source": [
    "scores = {\"Alice\": 85, \"Bob\": 92, \"Carol\": 78}\n",
    "\n",
    "# Loop over keys and values\n",
    "for name, score in scores.items():\n",
    "    print(f\"{name} scored {score}\")\n"
   ]
  },
  {
   "cell_type": "markdown",
   "id": "6f309991",
   "metadata": {},
   "source": [
    "## 7. Exception Handling"
   ]
  },
  {
   "cell_type": "code",
   "execution_count": null,
   "id": "e9805e7e",
   "metadata": {},
   "outputs": [],
   "source": [
    "try:\n",
    "    result = 10 / 0\n",
    "except ZeroDivisionError:\n",
    "    print(\"Cannot divide by zero!\")\n",
    "finally:\n",
    "    print(\"This always runs.\")\n"
   ]
  },
  {
   "cell_type": "markdown",
   "id": "e4b16be9",
   "metadata": {},
   "source": [
    "## 8. Classes & Methods"
   ]
  },
  {
   "cell_type": "code",
   "execution_count": null,
   "id": "57f3e079",
   "metadata": {},
   "outputs": [],
   "source": [
    "from math import sqrt\n",
    "\n",
    "class Point:\n",
    "    \"\"\"A simple 2D point.\"\"\"\n",
    "    def __init__(self, x: float = 0.0, y: float = 0.0):\n",
    "        self._x = x\n",
    "        self._y = y\n",
    "\n",
    "    @property\n",
    "    def x(self) -> float:\n",
    "        return self._x\n",
    "\n",
    "    @x.setter\n",
    "    def x(self, value: float):\n",
    "        self._x = value\n",
    "\n",
    "    @property\n",
    "    def y(self) -> float:\n",
    "        return self._y\n",
    "\n",
    "    @y.setter\n",
    "    def y(self, value: float):\n",
    "        self._y = value\n",
    "\n",
    "    def distance_to(self, other: \"Point\") -> float:\n",
    "        \"\"\"Euclidean distance to another point.\"\"\"\n",
    "        dx = self.x - other.x\n",
    "        dy = self.y - other.y\n",
    "        return sqrt(dx*dx + dy*dy)\n",
    "\n",
    "    def __repr__(self) -> str:\n",
    "        return f\"Point(x={self.x}, y={self.y})\"\n",
    "\n",
    "\n",
    "p1 = Point(0, 0)\n",
    "p2 = Point(3, 4)\n",
    "print(\"\\nPoints:\", p1, p2)\n",
    "print(\"Distance p1→p2:\", p1.distance_to(p2))\n",
    "\n",
    "\n",
    "class NegativeDistanceError(Exception):\n",
    "    \"\"\"Raised if computed distance is negative (should never happen).\"\"\"\n",
    "    pass\n",
    "\n",
    "def safe_distance(a: Point, b: Point) -> float:\n",
    "    d = a.distance_to(b)\n",
    "    if d < 0:\n",
    "        raise NegativeDistanceError(\"Distance computed as negative!\")\n",
    "    return d\n",
    "\n",
    "print(\"Safe distance:\", safe_distance(p1, p2))"
   ]
  },
  {
   "cell_type": "markdown",
   "id": "56db6b6d",
   "metadata": {},
   "source": [
    "## 9. File I/O"
   ]
  },
  {
   "cell_type": "code",
   "execution_count": null,
   "id": "50f448d6",
   "metadata": {},
   "outputs": [],
   "source": [
    "import json\n",
    "\n",
    "# 1. File I/O and exception handling\n",
    "def read_json(path: str) -> dict:\n",
    "    \"\"\"Read a JSON file and return its contents as a dict.\"\"\"\n",
    "    try:\n",
    "        with open(path, 'r', encoding='utf-8') as f:\n",
    "            data = json.load(f)\n",
    "        return data\n",
    "    except FileNotFoundError:\n",
    "        print(f\"Error: File not found at {path}\")\n",
    "        return {}\n",
    "    except json.JSONDecodeError as e:\n",
    "        print(f\"Error decoding JSON: {e}\")\n",
    "        return {}\n",
    "\n",
    "# Write sample JSON\n",
    "sample = {\"values\": [1, 4, 9, 16]}\n",
    "with open(\"sample.json\", \"w\", encoding=\"utf-8\") as f:\n",
    "    json.dump(sample, f, indent=2)"
   ]
  },
  {
   "cell_type": "code",
   "execution_count": null,
   "id": "67231266",
   "metadata": {},
   "outputs": [],
   "source": []
  }
 ],
 "metadata": {
  "kernelspec": {
   "display_name": "roleready",
   "language": "python",
   "name": "python3"
  },
  "language_info": {
   "codemirror_mode": {
    "name": "ipython",
    "version": 3
   },
   "file_extension": ".py",
   "mimetype": "text/x-python",
   "name": "python",
   "nbconvert_exporter": "python",
   "pygments_lexer": "ipython3",
   "version": "3.12.9"
  }
 },
 "nbformat": 4,
 "nbformat_minor": 5
}
